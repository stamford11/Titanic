{
  "nbformat": 4,
  "nbformat_minor": 0,
  "metadata": {
    "colab": {
      "name": "Titanic.ipynb",
      "provenance": [],
      "collapsed_sections": [],
      "toc_visible": true
    },
    "kernelspec": {
      "name": "python3",
      "display_name": "Python 3"
    }
  },
  "cells": [
    {
      "cell_type": "code",
      "metadata": {
        "id": "p_CR62h8zgMH"
      },
      "source": [
        "#data wrangling and manipulation\r\n",
        "import numpy as np\r\n",
        "import pandas as pd\r\n",
        "import random as rnd\r\n",
        "\r\n",
        "# plotting\r\n",
        "import seaborn as sns\r\n",
        "import matplotlib.pyplot as plt\r\n",
        "\r\n",
        "#ml\r\n",
        "from sklearn.linear_model import LogisticRegression\r\n",
        "from sklearn.svm import SVC, LinearSVC\r\n",
        "from sklearn.ensemble import RandomForestClassifier\r\n",
        "from sklearn.neighbors import KNeighborsClassifier\r\n",
        "from sklearn.naive_bayes import GaussianNB\r\n",
        "from sklearn.linear_model import Perceptron\r\n",
        "from sklearn.linear_model import SGDClassifier\r\n",
        "from sklearn.tree import DecisionTreeClassifier\r\n"
      ],
      "execution_count": 5,
      "outputs": []
    },
    {
      "cell_type": "code",
      "metadata": {
        "colab": {
          "base_uri": "https://localhost:8080/"
        },
        "id": "U2C44hhglPOH",
        "outputId": "e102bb06-1683-4c41-8c90-ca3ce90a54e2"
      },
      "source": [
        "train_df = pd.read_csv('sample_data/train.csv')\r\n",
        "test_df = pd.read_csv('sample_data/test.csv')\r\n",
        "train_df['Type']='train'\r\n",
        "test_df['Type']='test'\r\n",
        "all_df = pd.concat([train_df,test_df],axis=0,ignore_index=True)\r\n",
        "all_df.info()\r\n",
        "combine=[train_df,test_df]"
      ],
      "execution_count": 6,
      "outputs": [
        {
          "output_type": "stream",
          "text": [
            "<class 'pandas.core.frame.DataFrame'>\n",
            "RangeIndex: 1309 entries, 0 to 1308\n",
            "Data columns (total 13 columns):\n",
            " #   Column       Non-Null Count  Dtype  \n",
            "---  ------       --------------  -----  \n",
            " 0   PassengerId  1309 non-null   int64  \n",
            " 1   Survived     891 non-null    float64\n",
            " 2   Pclass       1309 non-null   int64  \n",
            " 3   Name         1309 non-null   object \n",
            " 4   Sex          1309 non-null   object \n",
            " 5   Age          1046 non-null   float64\n",
            " 6   SibSp        1309 non-null   int64  \n",
            " 7   Parch        1309 non-null   int64  \n",
            " 8   Ticket       1309 non-null   object \n",
            " 9   Fare         1308 non-null   float64\n",
            " 10  Cabin        295 non-null    object \n",
            " 11  Embarked     1307 non-null   object \n",
            " 12  Type         1309 non-null   object \n",
            "dtypes: float64(3), int64(4), object(6)\n",
            "memory usage: 133.1+ KB\n"
          ],
          "name": "stdout"
        }
      ]
    },
    {
      "cell_type": "code",
      "metadata": {
        "colab": {
          "base_uri": "https://localhost:8080/"
        },
        "id": "HV60ICcsloVl",
        "outputId": "5e93b208-b587-4cec-fe35-24477de85477"
      },
      "source": [
        "all_df.select_dtypes(include=np.number).columns"
      ],
      "execution_count": 7,
      "outputs": [
        {
          "output_type": "execute_result",
          "data": {
            "text/plain": [
              "Index(['PassengerId', 'Survived', 'Pclass', 'Age', 'SibSp', 'Parch', 'Fare'], dtype='object')"
            ]
          },
          "metadata": {
            "tags": []
          },
          "execution_count": 7
        }
      ]
    },
    {
      "cell_type": "code",
      "metadata": {
        "id": "6ZTCoYmgmeQQ"
      },
      "source": [
        "#Since we have age and embarked which is null we will fill it using median\r\n",
        "all_df['Age'].fillna(all_df['Age'].median(), inplace=True)\r\n",
        "all_df['Embarked'].fillna(all_df['Age'].mode()[0], inplace=True)"
      ],
      "execution_count": 8,
      "outputs": []
    },
    {
      "cell_type": "code",
      "metadata": {
        "colab": {
          "base_uri": "https://localhost:8080/"
        },
        "id": "aowSDpWq20_x",
        "outputId": "66a02ec1-5e15-426d-ff9b-8675123e97e4"
      },
      "source": [
        "# since we filled all the na values from our over all data set we can now start to wrangle the data\r\n",
        "all_df.info()"
      ],
      "execution_count": 9,
      "outputs": [
        {
          "output_type": "stream",
          "text": [
            "<class 'pandas.core.frame.DataFrame'>\n",
            "RangeIndex: 1309 entries, 0 to 1308\n",
            "Data columns (total 13 columns):\n",
            " #   Column       Non-Null Count  Dtype  \n",
            "---  ------       --------------  -----  \n",
            " 0   PassengerId  1309 non-null   int64  \n",
            " 1   Survived     891 non-null    float64\n",
            " 2   Pclass       1309 non-null   int64  \n",
            " 3   Name         1309 non-null   object \n",
            " 4   Sex          1309 non-null   object \n",
            " 5   Age          1309 non-null   float64\n",
            " 6   SibSp        1309 non-null   int64  \n",
            " 7   Parch        1309 non-null   int64  \n",
            " 8   Ticket       1309 non-null   object \n",
            " 9   Fare         1308 non-null   float64\n",
            " 10  Cabin        295 non-null    object \n",
            " 11  Embarked     1309 non-null   object \n",
            " 12  Type         1309 non-null   object \n",
            "dtypes: float64(3), int64(4), object(6)\n",
            "memory usage: 133.1+ KB\n"
          ],
          "name": "stdout"
        }
      ]
    },
    {
      "cell_type": "code",
      "metadata": {
        "colab": {
          "base_uri": "https://localhost:8080/",
          "height": 949
        },
        "id": "4YYff4l92wUB",
        "outputId": "479ff019-bba7-48cc-e759-fc3d77bc8916"
      },
      "source": [
        "all_df['Title']=all_df['Name'].str.extract('([A-Za-z]+)\\.',expand=False)\r\n",
        "all_df['Title'] = all_df['Title'].replace(['Lady', 'Countess','Capt', 'Col','Don', 'Dr', 'Major', 'Rev', 'Sir', 'Jonkheer', 'Dona'], 'Rare')\r\n",
        "all_df['Title'] = all_df['Title'].replace('Mlle', 'Miss')\r\n",
        "all_df['Title'] = all_df['Title'].replace('Ms', 'Miss')\r\n",
        "all_df['Title'] = all_df['Title'].replace('Mme', 'Mrs')\r\n",
        "all_df['FamilySize'] = all_df['SibSp']+all_df['Parch']+1\r\n",
        "all_df['IsAlone']=1\r\n",
        "all_df['IsAlone'].loc[all_df['FamilySize']>1]=0\r\n",
        "all_df.drop('FamilySize', axis=1)"
      ],
      "execution_count": 10,
      "outputs": [
        {
          "output_type": "stream",
          "text": [
            "/usr/local/lib/python3.7/dist-packages/pandas/core/indexing.py:670: SettingWithCopyWarning: \n",
            "A value is trying to be set on a copy of a slice from a DataFrame\n",
            "\n",
            "See the caveats in the documentation: https://pandas.pydata.org/pandas-docs/stable/user_guide/indexing.html#returning-a-view-versus-a-copy\n",
            "  iloc._setitem_with_indexer(indexer, value)\n"
          ],
          "name": "stderr"
        },
        {
          "output_type": "execute_result",
          "data": {
            "text/html": [
              "<div>\n",
              "<style scoped>\n",
              "    .dataframe tbody tr th:only-of-type {\n",
              "        vertical-align: middle;\n",
              "    }\n",
              "\n",
              "    .dataframe tbody tr th {\n",
              "        vertical-align: top;\n",
              "    }\n",
              "\n",
              "    .dataframe thead th {\n",
              "        text-align: right;\n",
              "    }\n",
              "</style>\n",
              "<table border=\"1\" class=\"dataframe\">\n",
              "  <thead>\n",
              "    <tr style=\"text-align: right;\">\n",
              "      <th></th>\n",
              "      <th>PassengerId</th>\n",
              "      <th>Survived</th>\n",
              "      <th>Pclass</th>\n",
              "      <th>Name</th>\n",
              "      <th>Sex</th>\n",
              "      <th>Age</th>\n",
              "      <th>SibSp</th>\n",
              "      <th>Parch</th>\n",
              "      <th>Ticket</th>\n",
              "      <th>Fare</th>\n",
              "      <th>Cabin</th>\n",
              "      <th>Embarked</th>\n",
              "      <th>Type</th>\n",
              "      <th>Title</th>\n",
              "      <th>IsAlone</th>\n",
              "    </tr>\n",
              "  </thead>\n",
              "  <tbody>\n",
              "    <tr>\n",
              "      <th>0</th>\n",
              "      <td>1</td>\n",
              "      <td>0.0</td>\n",
              "      <td>3</td>\n",
              "      <td>Braund, Mr. Owen Harris</td>\n",
              "      <td>male</td>\n",
              "      <td>22.0</td>\n",
              "      <td>1</td>\n",
              "      <td>0</td>\n",
              "      <td>A/5 21171</td>\n",
              "      <td>7.2500</td>\n",
              "      <td>NaN</td>\n",
              "      <td>S</td>\n",
              "      <td>train</td>\n",
              "      <td>Mr</td>\n",
              "      <td>0</td>\n",
              "    </tr>\n",
              "    <tr>\n",
              "      <th>1</th>\n",
              "      <td>2</td>\n",
              "      <td>1.0</td>\n",
              "      <td>1</td>\n",
              "      <td>Cumings, Mrs. John Bradley (Florence Briggs Th...</td>\n",
              "      <td>female</td>\n",
              "      <td>38.0</td>\n",
              "      <td>1</td>\n",
              "      <td>0</td>\n",
              "      <td>PC 17599</td>\n",
              "      <td>71.2833</td>\n",
              "      <td>C85</td>\n",
              "      <td>C</td>\n",
              "      <td>train</td>\n",
              "      <td>Mrs</td>\n",
              "      <td>0</td>\n",
              "    </tr>\n",
              "    <tr>\n",
              "      <th>2</th>\n",
              "      <td>3</td>\n",
              "      <td>1.0</td>\n",
              "      <td>3</td>\n",
              "      <td>Heikkinen, Miss. Laina</td>\n",
              "      <td>female</td>\n",
              "      <td>26.0</td>\n",
              "      <td>0</td>\n",
              "      <td>0</td>\n",
              "      <td>STON/O2. 3101282</td>\n",
              "      <td>7.9250</td>\n",
              "      <td>NaN</td>\n",
              "      <td>S</td>\n",
              "      <td>train</td>\n",
              "      <td>Miss</td>\n",
              "      <td>1</td>\n",
              "    </tr>\n",
              "    <tr>\n",
              "      <th>3</th>\n",
              "      <td>4</td>\n",
              "      <td>1.0</td>\n",
              "      <td>1</td>\n",
              "      <td>Futrelle, Mrs. Jacques Heath (Lily May Peel)</td>\n",
              "      <td>female</td>\n",
              "      <td>35.0</td>\n",
              "      <td>1</td>\n",
              "      <td>0</td>\n",
              "      <td>113803</td>\n",
              "      <td>53.1000</td>\n",
              "      <td>C123</td>\n",
              "      <td>S</td>\n",
              "      <td>train</td>\n",
              "      <td>Mrs</td>\n",
              "      <td>0</td>\n",
              "    </tr>\n",
              "    <tr>\n",
              "      <th>4</th>\n",
              "      <td>5</td>\n",
              "      <td>0.0</td>\n",
              "      <td>3</td>\n",
              "      <td>Allen, Mr. William Henry</td>\n",
              "      <td>male</td>\n",
              "      <td>35.0</td>\n",
              "      <td>0</td>\n",
              "      <td>0</td>\n",
              "      <td>373450</td>\n",
              "      <td>8.0500</td>\n",
              "      <td>NaN</td>\n",
              "      <td>S</td>\n",
              "      <td>train</td>\n",
              "      <td>Mr</td>\n",
              "      <td>1</td>\n",
              "    </tr>\n",
              "    <tr>\n",
              "      <th>...</th>\n",
              "      <td>...</td>\n",
              "      <td>...</td>\n",
              "      <td>...</td>\n",
              "      <td>...</td>\n",
              "      <td>...</td>\n",
              "      <td>...</td>\n",
              "      <td>...</td>\n",
              "      <td>...</td>\n",
              "      <td>...</td>\n",
              "      <td>...</td>\n",
              "      <td>...</td>\n",
              "      <td>...</td>\n",
              "      <td>...</td>\n",
              "      <td>...</td>\n",
              "      <td>...</td>\n",
              "    </tr>\n",
              "    <tr>\n",
              "      <th>1304</th>\n",
              "      <td>1305</td>\n",
              "      <td>NaN</td>\n",
              "      <td>3</td>\n",
              "      <td>Spector, Mr. Woolf</td>\n",
              "      <td>male</td>\n",
              "      <td>28.0</td>\n",
              "      <td>0</td>\n",
              "      <td>0</td>\n",
              "      <td>A.5. 3236</td>\n",
              "      <td>8.0500</td>\n",
              "      <td>NaN</td>\n",
              "      <td>S</td>\n",
              "      <td>test</td>\n",
              "      <td>Mr</td>\n",
              "      <td>1</td>\n",
              "    </tr>\n",
              "    <tr>\n",
              "      <th>1305</th>\n",
              "      <td>1306</td>\n",
              "      <td>NaN</td>\n",
              "      <td>1</td>\n",
              "      <td>Oliva y Ocana, Dona. Fermina</td>\n",
              "      <td>female</td>\n",
              "      <td>39.0</td>\n",
              "      <td>0</td>\n",
              "      <td>0</td>\n",
              "      <td>PC 17758</td>\n",
              "      <td>108.9000</td>\n",
              "      <td>C105</td>\n",
              "      <td>C</td>\n",
              "      <td>test</td>\n",
              "      <td>Rare</td>\n",
              "      <td>1</td>\n",
              "    </tr>\n",
              "    <tr>\n",
              "      <th>1306</th>\n",
              "      <td>1307</td>\n",
              "      <td>NaN</td>\n",
              "      <td>3</td>\n",
              "      <td>Saether, Mr. Simon Sivertsen</td>\n",
              "      <td>male</td>\n",
              "      <td>38.5</td>\n",
              "      <td>0</td>\n",
              "      <td>0</td>\n",
              "      <td>SOTON/O.Q. 3101262</td>\n",
              "      <td>7.2500</td>\n",
              "      <td>NaN</td>\n",
              "      <td>S</td>\n",
              "      <td>test</td>\n",
              "      <td>Mr</td>\n",
              "      <td>1</td>\n",
              "    </tr>\n",
              "    <tr>\n",
              "      <th>1307</th>\n",
              "      <td>1308</td>\n",
              "      <td>NaN</td>\n",
              "      <td>3</td>\n",
              "      <td>Ware, Mr. Frederick</td>\n",
              "      <td>male</td>\n",
              "      <td>28.0</td>\n",
              "      <td>0</td>\n",
              "      <td>0</td>\n",
              "      <td>359309</td>\n",
              "      <td>8.0500</td>\n",
              "      <td>NaN</td>\n",
              "      <td>S</td>\n",
              "      <td>test</td>\n",
              "      <td>Mr</td>\n",
              "      <td>1</td>\n",
              "    </tr>\n",
              "    <tr>\n",
              "      <th>1308</th>\n",
              "      <td>1309</td>\n",
              "      <td>NaN</td>\n",
              "      <td>3</td>\n",
              "      <td>Peter, Master. Michael J</td>\n",
              "      <td>male</td>\n",
              "      <td>28.0</td>\n",
              "      <td>1</td>\n",
              "      <td>1</td>\n",
              "      <td>2668</td>\n",
              "      <td>22.3583</td>\n",
              "      <td>NaN</td>\n",
              "      <td>C</td>\n",
              "      <td>test</td>\n",
              "      <td>Master</td>\n",
              "      <td>0</td>\n",
              "    </tr>\n",
              "  </tbody>\n",
              "</table>\n",
              "<p>1309 rows × 15 columns</p>\n",
              "</div>"
            ],
            "text/plain": [
              "      PassengerId  Survived  Pclass  ...   Type   Title  IsAlone\n",
              "0               1       0.0       3  ...  train      Mr        0\n",
              "1               2       1.0       1  ...  train     Mrs        0\n",
              "2               3       1.0       3  ...  train    Miss        1\n",
              "3               4       1.0       1  ...  train     Mrs        0\n",
              "4               5       0.0       3  ...  train      Mr        1\n",
              "...           ...       ...     ...  ...    ...     ...      ...\n",
              "1304         1305       NaN       3  ...   test      Mr        1\n",
              "1305         1306       NaN       1  ...   test    Rare        1\n",
              "1306         1307       NaN       3  ...   test      Mr        1\n",
              "1307         1308       NaN       3  ...   test      Mr        1\n",
              "1308         1309       NaN       3  ...   test  Master        0\n",
              "\n",
              "[1309 rows x 15 columns]"
            ]
          },
          "metadata": {
            "tags": []
          },
          "execution_count": 10
        }
      ]
    },
    {
      "cell_type": "code",
      "metadata": {
        "id": "8yHmjRVa5MV8"
      },
      "source": [
        "all_df.drop(['Name','Ticket','Cabin','PassengerId'],axis=1, inplace=True)\r\n"
      ],
      "execution_count": 11,
      "outputs": []
    },
    {
      "cell_type": "code",
      "metadata": {
        "id": "JqHbNurS7tx0"
      },
      "source": [
        "all_df['Fare'].fillna(all_df['Fare'].median(), inplace=True)"
      ],
      "execution_count": 12,
      "outputs": []
    },
    {
      "cell_type": "code",
      "metadata": {
        "id": "DI_2AZqj7wOV"
      },
      "source": [
        "all_df1= all_df.copy()"
      ],
      "execution_count": 13,
      "outputs": []
    },
    {
      "cell_type": "code",
      "metadata": {
        "colab": {
          "base_uri": "https://localhost:8080/"
        },
        "id": "9P697ZbI8ZkY",
        "outputId": "e64b62d7-9b66-4356-8858-f9f18ea5f278"
      },
      "source": [
        "all_df1.dtypes,all_df1.isna().sum()"
      ],
      "execution_count": 14,
      "outputs": [
        {
          "output_type": "execute_result",
          "data": {
            "text/plain": [
              "(Survived      float64\n",
              " Pclass          int64\n",
              " Sex            object\n",
              " Age           float64\n",
              " SibSp           int64\n",
              " Parch           int64\n",
              " Fare          float64\n",
              " Embarked       object\n",
              " Type           object\n",
              " Title          object\n",
              " FamilySize      int64\n",
              " IsAlone         int64\n",
              " dtype: object, Survived      418\n",
              " Pclass          0\n",
              " Sex             0\n",
              " Age             0\n",
              " SibSp           0\n",
              " Parch           0\n",
              " Fare            0\n",
              " Embarked        0\n",
              " Type            0\n",
              " Title           0\n",
              " FamilySize      0\n",
              " IsAlone         0\n",
              " dtype: int64)"
            ]
          },
          "metadata": {
            "tags": []
          },
          "execution_count": 14
        }
      ]
    },
    {
      "cell_type": "code",
      "metadata": {
        "id": "6vukFBXP8f4_"
      },
      "source": [
        "for label, content in all_df1.items():\r\n",
        "  if not pd.api.types.is_numeric_dtype(content):\r\n",
        "    all_df1[label]=pd.Categorical(content).codes+1"
      ],
      "execution_count": 15,
      "outputs": []
    },
    {
      "cell_type": "code",
      "metadata": {
        "colab": {
          "base_uri": "https://localhost:8080/",
          "height": 204
        },
        "id": "XhtCheNW9wz8",
        "outputId": "1cdfaccc-5c48-42c9-f26a-c943d106c462"
      },
      "source": [
        "all_df1.head()"
      ],
      "execution_count": 16,
      "outputs": [
        {
          "output_type": "execute_result",
          "data": {
            "text/html": [
              "<div>\n",
              "<style scoped>\n",
              "    .dataframe tbody tr th:only-of-type {\n",
              "        vertical-align: middle;\n",
              "    }\n",
              "\n",
              "    .dataframe tbody tr th {\n",
              "        vertical-align: top;\n",
              "    }\n",
              "\n",
              "    .dataframe thead th {\n",
              "        text-align: right;\n",
              "    }\n",
              "</style>\n",
              "<table border=\"1\" class=\"dataframe\">\n",
              "  <thead>\n",
              "    <tr style=\"text-align: right;\">\n",
              "      <th></th>\n",
              "      <th>Survived</th>\n",
              "      <th>Pclass</th>\n",
              "      <th>Sex</th>\n",
              "      <th>Age</th>\n",
              "      <th>SibSp</th>\n",
              "      <th>Parch</th>\n",
              "      <th>Fare</th>\n",
              "      <th>Embarked</th>\n",
              "      <th>Type</th>\n",
              "      <th>Title</th>\n",
              "      <th>FamilySize</th>\n",
              "      <th>IsAlone</th>\n",
              "    </tr>\n",
              "  </thead>\n",
              "  <tbody>\n",
              "    <tr>\n",
              "      <th>0</th>\n",
              "      <td>0.0</td>\n",
              "      <td>3</td>\n",
              "      <td>2</td>\n",
              "      <td>22.0</td>\n",
              "      <td>1</td>\n",
              "      <td>0</td>\n",
              "      <td>7.2500</td>\n",
              "      <td>4</td>\n",
              "      <td>2</td>\n",
              "      <td>3</td>\n",
              "      <td>2</td>\n",
              "      <td>0</td>\n",
              "    </tr>\n",
              "    <tr>\n",
              "      <th>1</th>\n",
              "      <td>1.0</td>\n",
              "      <td>1</td>\n",
              "      <td>1</td>\n",
              "      <td>38.0</td>\n",
              "      <td>1</td>\n",
              "      <td>0</td>\n",
              "      <td>71.2833</td>\n",
              "      <td>2</td>\n",
              "      <td>2</td>\n",
              "      <td>4</td>\n",
              "      <td>2</td>\n",
              "      <td>0</td>\n",
              "    </tr>\n",
              "    <tr>\n",
              "      <th>2</th>\n",
              "      <td>1.0</td>\n",
              "      <td>3</td>\n",
              "      <td>1</td>\n",
              "      <td>26.0</td>\n",
              "      <td>0</td>\n",
              "      <td>0</td>\n",
              "      <td>7.9250</td>\n",
              "      <td>4</td>\n",
              "      <td>2</td>\n",
              "      <td>2</td>\n",
              "      <td>1</td>\n",
              "      <td>1</td>\n",
              "    </tr>\n",
              "    <tr>\n",
              "      <th>3</th>\n",
              "      <td>1.0</td>\n",
              "      <td>1</td>\n",
              "      <td>1</td>\n",
              "      <td>35.0</td>\n",
              "      <td>1</td>\n",
              "      <td>0</td>\n",
              "      <td>53.1000</td>\n",
              "      <td>4</td>\n",
              "      <td>2</td>\n",
              "      <td>4</td>\n",
              "      <td>2</td>\n",
              "      <td>0</td>\n",
              "    </tr>\n",
              "    <tr>\n",
              "      <th>4</th>\n",
              "      <td>0.0</td>\n",
              "      <td>3</td>\n",
              "      <td>2</td>\n",
              "      <td>35.0</td>\n",
              "      <td>0</td>\n",
              "      <td>0</td>\n",
              "      <td>8.0500</td>\n",
              "      <td>4</td>\n",
              "      <td>2</td>\n",
              "      <td>3</td>\n",
              "      <td>1</td>\n",
              "      <td>1</td>\n",
              "    </tr>\n",
              "  </tbody>\n",
              "</table>\n",
              "</div>"
            ],
            "text/plain": [
              "   Survived  Pclass  Sex   Age  ...  Type  Title  FamilySize  IsAlone\n",
              "0       0.0       3    2  22.0  ...     2      3           2        0\n",
              "1       1.0       1    1  38.0  ...     2      4           2        0\n",
              "2       1.0       3    1  26.0  ...     2      2           1        1\n",
              "3       1.0       1    1  35.0  ...     2      4           2        0\n",
              "4       0.0       3    2  35.0  ...     2      3           1        1\n",
              "\n",
              "[5 rows x 12 columns]"
            ]
          },
          "metadata": {
            "tags": []
          },
          "execution_count": 16
        }
      ]
    },
    {
      "cell_type": "code",
      "metadata": {
        "id": "awG2cmA5-Eby"
      },
      "source": [
        "from sklearn.model_selection import train_test_split\r\n",
        "from sklearn.metrics import confusion_matrix, accuracy_score, classification_report\r\n",
        "from sklearn.metrics import precision_score, recall_score, f1_score\r\n",
        "from sklearn.metrics import plot_confusion_matrix, plot_roc_curve\r\n",
        "from sklearn.model_selection import GridSearchCV, RandomizedSearchCV\r\n",
        "from sklearn.ensemble import GradientBoostingClassifier\r\n"
      ],
      "execution_count": 55,
      "outputs": []
    },
    {
      "cell_type": "code",
      "metadata": {
        "colab": {
          "base_uri": "https://localhost:8080/",
          "height": 204
        },
        "id": "G_0Q9xy3_Ajg",
        "outputId": "cf560b9a-d647-43e9-a199-ca34ad0302f7"
      },
      "source": [
        "all_df1.head()"
      ],
      "execution_count": 18,
      "outputs": [
        {
          "output_type": "execute_result",
          "data": {
            "text/html": [
              "<div>\n",
              "<style scoped>\n",
              "    .dataframe tbody tr th:only-of-type {\n",
              "        vertical-align: middle;\n",
              "    }\n",
              "\n",
              "    .dataframe tbody tr th {\n",
              "        vertical-align: top;\n",
              "    }\n",
              "\n",
              "    .dataframe thead th {\n",
              "        text-align: right;\n",
              "    }\n",
              "</style>\n",
              "<table border=\"1\" class=\"dataframe\">\n",
              "  <thead>\n",
              "    <tr style=\"text-align: right;\">\n",
              "      <th></th>\n",
              "      <th>Survived</th>\n",
              "      <th>Pclass</th>\n",
              "      <th>Sex</th>\n",
              "      <th>Age</th>\n",
              "      <th>SibSp</th>\n",
              "      <th>Parch</th>\n",
              "      <th>Fare</th>\n",
              "      <th>Embarked</th>\n",
              "      <th>Type</th>\n",
              "      <th>Title</th>\n",
              "      <th>FamilySize</th>\n",
              "      <th>IsAlone</th>\n",
              "    </tr>\n",
              "  </thead>\n",
              "  <tbody>\n",
              "    <tr>\n",
              "      <th>0</th>\n",
              "      <td>0.0</td>\n",
              "      <td>3</td>\n",
              "      <td>2</td>\n",
              "      <td>22.0</td>\n",
              "      <td>1</td>\n",
              "      <td>0</td>\n",
              "      <td>7.2500</td>\n",
              "      <td>4</td>\n",
              "      <td>2</td>\n",
              "      <td>3</td>\n",
              "      <td>2</td>\n",
              "      <td>0</td>\n",
              "    </tr>\n",
              "    <tr>\n",
              "      <th>1</th>\n",
              "      <td>1.0</td>\n",
              "      <td>1</td>\n",
              "      <td>1</td>\n",
              "      <td>38.0</td>\n",
              "      <td>1</td>\n",
              "      <td>0</td>\n",
              "      <td>71.2833</td>\n",
              "      <td>2</td>\n",
              "      <td>2</td>\n",
              "      <td>4</td>\n",
              "      <td>2</td>\n",
              "      <td>0</td>\n",
              "    </tr>\n",
              "    <tr>\n",
              "      <th>2</th>\n",
              "      <td>1.0</td>\n",
              "      <td>3</td>\n",
              "      <td>1</td>\n",
              "      <td>26.0</td>\n",
              "      <td>0</td>\n",
              "      <td>0</td>\n",
              "      <td>7.9250</td>\n",
              "      <td>4</td>\n",
              "      <td>2</td>\n",
              "      <td>2</td>\n",
              "      <td>1</td>\n",
              "      <td>1</td>\n",
              "    </tr>\n",
              "    <tr>\n",
              "      <th>3</th>\n",
              "      <td>1.0</td>\n",
              "      <td>1</td>\n",
              "      <td>1</td>\n",
              "      <td>35.0</td>\n",
              "      <td>1</td>\n",
              "      <td>0</td>\n",
              "      <td>53.1000</td>\n",
              "      <td>4</td>\n",
              "      <td>2</td>\n",
              "      <td>4</td>\n",
              "      <td>2</td>\n",
              "      <td>0</td>\n",
              "    </tr>\n",
              "    <tr>\n",
              "      <th>4</th>\n",
              "      <td>0.0</td>\n",
              "      <td>3</td>\n",
              "      <td>2</td>\n",
              "      <td>35.0</td>\n",
              "      <td>0</td>\n",
              "      <td>0</td>\n",
              "      <td>8.0500</td>\n",
              "      <td>4</td>\n",
              "      <td>2</td>\n",
              "      <td>3</td>\n",
              "      <td>1</td>\n",
              "      <td>1</td>\n",
              "    </tr>\n",
              "  </tbody>\n",
              "</table>\n",
              "</div>"
            ],
            "text/plain": [
              "   Survived  Pclass  Sex   Age  ...  Type  Title  FamilySize  IsAlone\n",
              "0       0.0       3    2  22.0  ...     2      3           2        0\n",
              "1       1.0       1    1  38.0  ...     2      4           2        0\n",
              "2       1.0       3    1  26.0  ...     2      2           1        1\n",
              "3       1.0       1    1  35.0  ...     2      4           2        0\n",
              "4       0.0       3    2  35.0  ...     2      3           1        1\n",
              "\n",
              "[5 rows x 12 columns]"
            ]
          },
          "metadata": {
            "tags": []
          },
          "execution_count": 18
        }
      ]
    },
    {
      "cell_type": "code",
      "metadata": {
        "id": "RX8E4gLe_int"
      },
      "source": [
        "train = all_df1[all_df1['Type']==2].drop('Type', axis=1)\r\n",
        "test = all_df1[all_df1['Type']==1].drop(['Type', 'Survived'], axis=1)"
      ],
      "execution_count": 19,
      "outputs": []
    },
    {
      "cell_type": "code",
      "metadata": {
        "id": "O_hiDKIqDS3x",
        "colab": {
          "base_uri": "https://localhost:8080/"
        },
        "outputId": "54de0ef5-3e36-4dd0-89e5-945ea67390b8"
      },
      "source": [
        "len(train) == len(X_train)+ len(X_test)\r\n"
      ],
      "execution_count": 79,
      "outputs": [
        {
          "output_type": "execute_result",
          "data": {
            "text/plain": [
              "True"
            ]
          },
          "metadata": {
            "tags": []
          },
          "execution_count": 79
        }
      ]
    },
    {
      "cell_type": "code",
      "metadata": {
        "id": "0uMr01x6AssP"
      },
      "source": [
        "yvar = train.pop(\"Survived\")\r\n",
        "X_train,X_test, y_train, y_test = train_test_split(train, yvar, test_size=0.2)"
      ],
      "execution_count": 20,
      "outputs": []
    },
    {
      "cell_type": "code",
      "metadata": {
        "id": "6nyAIbKKC7Sf"
      },
      "source": [
        "# def evaluate(y_train,y_preds, y_test, y_test_preds):\r\n",
        "  \r\n"
      ],
      "execution_count": 24,
      "outputs": []
    },
    {
      "cell_type": "code",
      "metadata": {
        "id": "T-H2wPM_Avyu"
      },
      "source": [
        ""
      ],
      "execution_count": null,
      "outputs": []
    },
    {
      "cell_type": "code",
      "metadata": {
        "colab": {
          "base_uri": "https://localhost:8080/"
        },
        "id": "JbjH1Sf5BJlI",
        "outputId": "7c1135c1-feb2-4403-94a5-89aecf22a306"
      },
      "source": [
        "logreg = LogisticRegression()\r\n",
        "logreg.fit(X_train, y_train)\r\n",
        "y_preds = logreg.predict(X_test)\r\n",
        "acc_log = round(logreg.score(X_train, y_train) * 100, 2)\r\n",
        "acc_log, y_preds"
      ],
      "execution_count": 46,
      "outputs": [
        {
          "output_type": "stream",
          "text": [
            "/usr/local/lib/python3.7/dist-packages/sklearn/linear_model/_logistic.py:940: ConvergenceWarning: lbfgs failed to converge (status=1):\n",
            "STOP: TOTAL NO. of ITERATIONS REACHED LIMIT.\n",
            "\n",
            "Increase the number of iterations (max_iter) or scale the data as shown in:\n",
            "    https://scikit-learn.org/stable/modules/preprocessing.html\n",
            "Please also refer to the documentation for alternative solver options:\n",
            "    https://scikit-learn.org/stable/modules/linear_model.html#logistic-regression\n",
            "  extra_warning_msg=_LOGISTIC_SOLVER_CONVERGENCE_MSG)\n"
          ],
          "name": "stderr"
        },
        {
          "output_type": "execute_result",
          "data": {
            "text/plain": [
              "(82.72,\n",
              " array([0., 0., 0., 1., 0., 0., 0., 0., 0., 0., 0., 1., 0., 1., 1., 0., 0.,\n",
              "        0., 0., 1., 0., 1., 0., 0., 0., 0., 1., 0., 0., 1., 0., 0., 1., 1.,\n",
              "        1., 0., 0., 0., 0., 1., 0., 0., 1., 1., 0., 1., 1., 1., 0., 0., 0.,\n",
              "        0., 0., 0., 1., 0., 0., 0., 1., 1., 0., 1., 0., 0., 0., 1., 0., 0.,\n",
              "        0., 0., 1., 0., 0., 0., 0., 0., 1., 0., 0., 0., 0., 1., 1., 0., 0.,\n",
              "        0., 0., 0., 1., 0., 0., 0., 0., 0., 0., 1., 0., 0., 1., 0., 1., 0.,\n",
              "        0., 0., 1., 0., 0., 1., 1., 1., 1., 0., 0., 0., 0., 0., 1., 1., 0.,\n",
              "        0., 1., 1., 1., 0., 0., 0., 0., 0., 0., 0., 1., 1., 1., 0., 0., 0.,\n",
              "        0., 0., 0., 1., 1., 1., 1., 0., 0., 0., 0., 0., 0., 1., 1., 0., 1.,\n",
              "        1., 1., 0., 1., 1., 0., 1., 0., 0., 0., 0., 1., 1., 0., 1., 1., 0.,\n",
              "        0., 0., 1., 0., 0., 1., 1., 0., 0.]))"
            ]
          },
          "metadata": {
            "tags": []
          },
          "execution_count": 46
        }
      ]
    },
    {
      "cell_type": "code",
      "metadata": {
        "id": "CAG8Q2hIB1W7"
      },
      "source": [
        "models = {\"Logistic Regression\": LogisticRegression(),\r\n",
        "          \"KNN\": KNeighborsClassifier(),\r\n",
        "          \"Random Forest\": RandomForestClassifier(),\r\n",
        "          \"LinearSVC\":LinearSVC(),\r\n",
        "          \"GaussianNB\":GaussianNB(),\r\n",
        "          \"Perceptron\":Perceptron(),\r\n",
        "          \"SGDClassifier\":SGDClassifier(),\r\n",
        "          \"Decision Tree\":DecisionTreeClassifier(),\r\n",
        "          \"Gradient Boosting Classifier\":GradientBoostingClassifier()}\r\n",
        "# Create a function to fit and score models\r\n",
        "def fit_and_score(models, X_train, X_test, y_train, y_test):\r\n",
        "    \"\"\"\r\n",
        "    Fits and evaluates given machine learning models.\r\n",
        "    models : a dict of differetn Scikit-Learn machine learning models\r\n",
        "    X_train : training data (no labels)\r\n",
        "    X_test : testing data (no labels)\r\n",
        "    y_train : training labels\r\n",
        "    y_test : test labels\r\n",
        "    \"\"\"\r\n",
        "    # Set random seed\r\n",
        "    np.random.seed(42)\r\n",
        "    # Make a dictionary to keep model scores\r\n",
        "    model_scores = {}\r\n",
        "    # Loop through models\r\n",
        "    for name, model in models.items():\r\n",
        "        # Fit the model to the data\r\n",
        "        model.fit(X_train, y_train)\r\n",
        "        # Evaluate the model and append its score to model_scores\r\n",
        "        model_scores[name] = model.score(X_test, y_test)\r\n",
        "        \r\n",
        "    return model_scores"
      ],
      "execution_count": 56,
      "outputs": []
    },
    {
      "cell_type": "code",
      "metadata": {
        "colab": {
          "base_uri": "https://localhost:8080/"
        },
        "id": "ce-nICBGGYlm",
        "outputId": "9d3005ec-4fe2-47d7-809f-8c09bb653ad9"
      },
      "source": [
        "model_scores = fit_and_score(models=models,\r\n",
        "                             X_train=X_train,\r\n",
        "                             X_test=X_test,\r\n",
        "                             y_train=y_train,\r\n",
        "                             y_test=y_test)\r\n",
        "\r\n",
        "model_scores"
      ],
      "execution_count": 57,
      "outputs": [
        {
          "output_type": "stream",
          "text": [
            "/usr/local/lib/python3.7/dist-packages/sklearn/linear_model/_logistic.py:940: ConvergenceWarning: lbfgs failed to converge (status=1):\n",
            "STOP: TOTAL NO. of ITERATIONS REACHED LIMIT.\n",
            "\n",
            "Increase the number of iterations (max_iter) or scale the data as shown in:\n",
            "    https://scikit-learn.org/stable/modules/preprocessing.html\n",
            "Please also refer to the documentation for alternative solver options:\n",
            "    https://scikit-learn.org/stable/modules/linear_model.html#logistic-regression\n",
            "  extra_warning_msg=_LOGISTIC_SOLVER_CONVERGENCE_MSG)\n",
            "/usr/local/lib/python3.7/dist-packages/sklearn/svm/_base.py:947: ConvergenceWarning: Liblinear failed to converge, increase the number of iterations.\n",
            "  \"the number of iterations.\", ConvergenceWarning)\n"
          ],
          "name": "stderr"
        },
        {
          "output_type": "execute_result",
          "data": {
            "text/plain": [
              "{'Decision Tree': 0.7541899441340782,\n",
              " 'GaussianNB': 0.7597765363128491,\n",
              " 'Gradient Boosting Classifier': 0.7597765363128491,\n",
              " 'KNN': 0.6759776536312849,\n",
              " 'LinearSVC': 0.7318435754189944,\n",
              " 'Logistic Regression': 0.7318435754189944,\n",
              " 'Perceptron': 0.5754189944134078,\n",
              " 'Random Forest': 0.7988826815642458,\n",
              " 'SGDClassifier': 0.4245810055865922}"
            ]
          },
          "metadata": {
            "tags": []
          },
          "execution_count": 57
        }
      ]
    },
    {
      "cell_type": "code",
      "metadata": {
        "id": "RmkWVe1FGfaY"
      },
      "source": [
        "model_comp =  pd.DataFrame(list(model_scores.items()), columns=['model','accuracy']).sort_values('accuracy',ascending=False)"
      ],
      "execution_count": 58,
      "outputs": []
    },
    {
      "cell_type": "code",
      "metadata": {
        "colab": {
          "base_uri": "https://localhost:8080/",
          "height": 328
        },
        "id": "p5vy2kJRHAT2",
        "outputId": "d5023ce6-8717-44e5-ebd6-ea70f8f43a89"
      },
      "source": [
        "model_comp"
      ],
      "execution_count": 59,
      "outputs": [
        {
          "output_type": "execute_result",
          "data": {
            "text/html": [
              "<div>\n",
              "<style scoped>\n",
              "    .dataframe tbody tr th:only-of-type {\n",
              "        vertical-align: middle;\n",
              "    }\n",
              "\n",
              "    .dataframe tbody tr th {\n",
              "        vertical-align: top;\n",
              "    }\n",
              "\n",
              "    .dataframe thead th {\n",
              "        text-align: right;\n",
              "    }\n",
              "</style>\n",
              "<table border=\"1\" class=\"dataframe\">\n",
              "  <thead>\n",
              "    <tr style=\"text-align: right;\">\n",
              "      <th></th>\n",
              "      <th>model</th>\n",
              "      <th>accuracy</th>\n",
              "    </tr>\n",
              "  </thead>\n",
              "  <tbody>\n",
              "    <tr>\n",
              "      <th>2</th>\n",
              "      <td>Random Forest</td>\n",
              "      <td>0.798883</td>\n",
              "    </tr>\n",
              "    <tr>\n",
              "      <th>4</th>\n",
              "      <td>GaussianNB</td>\n",
              "      <td>0.759777</td>\n",
              "    </tr>\n",
              "    <tr>\n",
              "      <th>8</th>\n",
              "      <td>Gradient Boosting Classifier</td>\n",
              "      <td>0.759777</td>\n",
              "    </tr>\n",
              "    <tr>\n",
              "      <th>7</th>\n",
              "      <td>Decision Tree</td>\n",
              "      <td>0.754190</td>\n",
              "    </tr>\n",
              "    <tr>\n",
              "      <th>0</th>\n",
              "      <td>Logistic Regression</td>\n",
              "      <td>0.731844</td>\n",
              "    </tr>\n",
              "    <tr>\n",
              "      <th>3</th>\n",
              "      <td>LinearSVC</td>\n",
              "      <td>0.731844</td>\n",
              "    </tr>\n",
              "    <tr>\n",
              "      <th>1</th>\n",
              "      <td>KNN</td>\n",
              "      <td>0.675978</td>\n",
              "    </tr>\n",
              "    <tr>\n",
              "      <th>5</th>\n",
              "      <td>Perceptron</td>\n",
              "      <td>0.575419</td>\n",
              "    </tr>\n",
              "    <tr>\n",
              "      <th>6</th>\n",
              "      <td>SGDClassifier</td>\n",
              "      <td>0.424581</td>\n",
              "    </tr>\n",
              "  </tbody>\n",
              "</table>\n",
              "</div>"
            ],
            "text/plain": [
              "                          model  accuracy\n",
              "2                 Random Forest  0.798883\n",
              "4                    GaussianNB  0.759777\n",
              "8  Gradient Boosting Classifier  0.759777\n",
              "7                 Decision Tree  0.754190\n",
              "0           Logistic Regression  0.731844\n",
              "3                     LinearSVC  0.731844\n",
              "1                           KNN  0.675978\n",
              "5                    Perceptron  0.575419\n",
              "6                 SGDClassifier  0.424581"
            ]
          },
          "metadata": {
            "tags": []
          },
          "execution_count": 59
        }
      ]
    },
    {
      "cell_type": "code",
      "metadata": {
        "colab": {
          "base_uri": "https://localhost:8080/",
          "height": 568
        },
        "id": "0eD6I5LbJ6HI",
        "outputId": "8af6a9d9-bcb8-418c-f77e-b46429fcf18e"
      },
      "source": [
        "plt.figure(figsize=(14,9))\r\n",
        "sns.barplot(x=\"model\", y=\"accuracy\", data=model_comp, palette=\"rocket\")"
      ],
      "execution_count": 60,
      "outputs": [
        {
          "output_type": "execute_result",
          "data": {
            "text/plain": [
              "<matplotlib.axes._subplots.AxesSubplot at 0x7fc9f4cefc10>"
            ]
          },
          "metadata": {
            "tags": []
          },
          "execution_count": 60
        },
        {
          "output_type": "display_data",
          "data": {
            "image/png": "[encoded data removed]",
            "text/plain": [
              "<Figure size 1008x648 with 1 Axes>"
            ]
          },
          "metadata": {
            "tags": [],
            "needs_background": "light"
          }
        }
      ]
    },
    {
      "cell_type": "markdown",
      "metadata": {
        "id": "L2v0BqP9L9dM"
      },
      "source": [
        ""
      ]
    },
    {
      "cell_type": "markdown",
      "metadata": {
        "id": "lTCLgE8dOOoG"
      },
      "source": [
        "## Hyper parameter Tuning\r\n",
        " We will tune the hyper parameter for our top 4 models\r\n",
        " Random FOrest,GaussianNB, Decision Tree and Logistic Regression\r\n",
        "\r\n",
        " ### Using GridSearchCV for it\r\n",
        "\r\n",
        " It took a lot of time so i just used some of the hyperparameter I used to train other model"
      ]
    },
    {
      "cell_type": "code",
      "metadata": {
        "colab": {
          "base_uri": "https://localhost:8080/"
        },
        "id": "6kDiAo8mPEFW",
        "outputId": "1bca020f-1289-4df0-8fd0-93be69d20ea7"
      },
      "source": [
        "rfc_best_hp = RandomForestClassifier(max_depth = 15, min_samples_leaf = 1, min_samples_split = 2, n_estimators = 500)\r\n",
        "rfc_best_hp.fit(X_train,y_train)\r\n",
        "print(f\"RandomForestClassifier accuracy on test is: {rfc_best_hp.score(X_test,y_test)*100:.2f}%\")\r\n",
        "\r\n",
        "\r\n",
        "gnb_best_hp  = GaussianNB(priors=None, var_smoothing=1e-07)\r\n",
        "gnb_best_hp.fit(X_train,y_train)\r\n",
        "print(f\"Gaussian Naive bayes accuracy on test is: {gnb_best_hp.score(X_test,y_test)*100:.2f}%\")\r\n",
        "\r\n",
        "\r\n",
        "gb_best_hp = GradientBoostingClassifier(learning_rate=0.01, n_estimators=1500,max_depth=4, min_samples_split=40, min_samples_leaf=7,max_features=4 , subsample=0.95, random_state=10)\r\n",
        "gb_best_hp.fit(X_train,y_train)\r\n",
        "print(f\"Gradient Boosting accuracy on test is: {gb_best_hp.score(X_test,y_test)*100:.2f}%\")\r\n",
        "rfc = RandomForestClassifier(max_depth = 15, min_samples_leaf = 1, min_samples_split = 2, n_estimators = 500)\r\n",
        "gnb =  GaussianNB(priors=None, var_smoothing=1e-07)\r\n",
        "gb = GradientBoostingClassifier(learning_rate=0.01, n_estimators=1500,max_depth=4, min_samples_split=40, min_samples_leaf=7,max_features=4 , subsample=0.95, random_state=10)"
      ],
      "execution_count": 105,
      "outputs": [
        {
          "output_type": "stream",
          "text": [
            "RandomForestClassifier accuracy on test is: 80.45%\n",
            "Gaussian Naive bayes accuracy on test is: 75.98%\n",
            "Gradient Boosting accuracy on test is: 81.01%\n"
          ],
          "name": "stdout"
        }
      ]
    },
    {
      "cell_type": "code",
      "metadata": {
        "colab": {
          "base_uri": "https://localhost:8080/"
        },
        "id": "OjXvH_fRizrl",
        "outputId": "3ef7322c-ad82-498c-c514-6edfe653bfcf"
      },
      "source": [
        "## After tuning making a sample sumbission\r\n",
        "y_test_preds = gb_best_hp.predict(test)\r\n",
        "pred = pd.DataFrame(y_test_preds, columns=['Survived']).astype('int64')\r\n",
        "outputdf = pd.concat([test_df['PassengerId'], pred], axis=1)\r\n",
        "outputdf.to_csv('sample_data/submission_kaggle.csv', index=False)\r\n",
        "len(y_test_preds)"
      ],
      "execution_count": 158,
      "outputs": [
        {
          "output_type": "execute_result",
          "data": {
            "text/plain": [
              "418"
            ]
          },
          "metadata": {
            "tags": []
          },
          "execution_count": 158
        }
      ]
    },
    {
      "cell_type": "code",
      "metadata": {
        "id": "t1q_prsTkTQX"
      },
      "source": [
        ""
      ],
      "execution_count": null,
      "outputs": []
    },
    {
      "cell_type": "markdown",
      "metadata": {
        "id": "SNrTlfn1OiV2"
      },
      "source": [
        "## Evaluation on other classifier beyond accuracy\r\n",
        "\r\n",
        "This step is after hyper parameter tuning \r\n"
      ]
    },
    {
      "cell_type": "code",
      "metadata": {
        "id": "F6Su8cSKOWzx"
      },
      "source": [
        "y_preds_rfc = rfc_best_hp.predict(X_test)\r\n",
        "y_preds_gnb = gnb_best_hp.predict(X_test)\r\n",
        "y_preds_gb = gb_best_hp.predict(X_test)"
      ],
      "execution_count": 89,
      "outputs": []
    },
    {
      "cell_type": "code",
      "metadata": {
        "id": "bioTfDrOixh8"
      },
      "source": [
        ""
      ],
      "execution_count": null,
      "outputs": []
    },
    {
      "cell_type": "code",
      "metadata": {
        "colab": {
          "base_uri": "https://localhost:8080/",
          "height": 820
        },
        "id": "BshyAA7UQYzQ",
        "outputId": "26f10282-39ad-41e3-ba0e-427b9445d0ca"
      },
      "source": [
        "### ROC Curve for each evaluated classifier model\r\n",
        "plot_roc_curve(rfc_best_hp,X_test,y_test)\r\n",
        "plot_roc_curve(gnb_best_hp, X_test,y_test)\r\n",
        "plot_roc_curve(gb_best_hp, X_test,y_test)"
      ],
      "execution_count": 90,
      "outputs": [
        {
          "output_type": "execute_result",
          "data": {
            "text/plain": [
              "<sklearn.metrics._plot.roc_curve.RocCurveDisplay at 0x7fc9f4824d50>"
            ]
          },
          "metadata": {
            "tags": []
          },
          "execution_count": 90
        },
        {
          "output_type": "display_data",
          "data": {
            "image/png": "[encoded data removed]",
            "text/plain": [
              "<Figure size 432x288 with 1 Axes>"
            ]
          },
          "metadata": {
            "tags": [],
            "needs_background": "light"
          }
        },
        {
          "output_type": "display_data",
          "data": {
            "image/png": "[encoded data removed]",
            "text/plain": [
              "<Figure size 432x288 with 1 Axes>"
            ]
          },
          "metadata": {
            "tags": [],
            "needs_background": "light"
          }
        },
        {
          "output_type": "display_data",
          "data": {
            "image/png": "[encoded data removed]",
            "text/plain": [
              "<Figure size 432x288 with 1 Axes>"
            ]
          },
          "metadata": {
            "tags": [],
            "needs_background": "light"
          }
        }
      ]
    },
    {
      "cell_type": "code",
      "metadata": {
        "colab": {
          "base_uri": "https://localhost:8080/",
          "height": 824
        },
        "id": "4n-WQwF-V8go",
        "outputId": "9b4ad0d4-47e6-4def-e3d7-65fdf28fee0d"
      },
      "source": [
        "plot_confusion_matrix(rfc_best_hp, X_test, y_test)\r\n",
        "plot_confusion_matrix(gnb_best_hp, X_test, y_test)\r\n",
        "plot_confusion_matrix(gb_best_hp, X_test, y_test)\r\n"
      ],
      "execution_count": 96,
      "outputs": [
        {
          "output_type": "execute_result",
          "data": {
            "text/plain": [
              "<sklearn.metrics._plot.confusion_matrix.ConfusionMatrixDisplay at 0x7fc9f4645b10>"
            ]
          },
          "metadata": {
            "tags": []
          },
          "execution_count": 96
        },
        {
          "output_type": "display_data",
          "data": {
            "image/png": "[encoded data removed]",
            "text/plain": [
              "<Figure size 432x288 with 2 Axes>"
            ]
          },
          "metadata": {
            "tags": [],
            "needs_background": "light"
          }
        },
        {
          "output_type": "display_data",
          "data": {
            "image/png": "[encoded data removed]",
            "text/plain": [
              "<Figure size 432x288 with 2 Axes>"
            ]
          },
          "metadata": {
            "tags": [],
            "needs_background": "light"
          }
        },
        {
          "output_type": "display_data",
          "data": {
            "image/png": "[encoded data removed]",
            "text/plain": [
              "<Figure size 432x288 with 2 Axes>"
            ]
          },
          "metadata": {
            "tags": [],
            "needs_background": "light"
          }
        }
      ]
    },
    {
      "cell_type": "code",
      "metadata": {
        "colab": {
          "base_uri": "https://localhost:8080/"
        },
        "id": "TSC0qn_TWTqF",
        "outputId": "f0f4f12b-41b0-4f33-e56f-66936bf7b6a3"
      },
      "source": [
        "print(f\"Classification Report for Random Forest\\n{classification_report(y_test,y_preds_rfc)}\")\r\n",
        "print(f\"Classification Report for GaussianNB \\n{classification_report(y_test,y_preds_gnb)}\")\r\n",
        "print(f\"Classification Report for Gradient Boosting \\n{classification_report(y_test,y_preds_gb)}\")"
      ],
      "execution_count": 100,
      "outputs": [
        {
          "output_type": "stream",
          "text": [
            "Classification Report for Random Forest\n",
            "              precision    recall  f1-score   support\n",
            "\n",
            "         0.0       0.84      0.82      0.83       103\n",
            "         1.0       0.76      0.79      0.77        76\n",
            "\n",
            "    accuracy                           0.80       179\n",
            "   macro avg       0.80      0.80      0.80       179\n",
            "weighted avg       0.81      0.80      0.80       179\n",
            "\n",
            "Classification Report for GaussianNB \n",
            "              precision    recall  f1-score   support\n",
            "\n",
            "         0.0       0.80      0.78      0.79       103\n",
            "         1.0       0.71      0.74      0.72        76\n",
            "\n",
            "    accuracy                           0.76       179\n",
            "   macro avg       0.75      0.76      0.76       179\n",
            "weighted avg       0.76      0.76      0.76       179\n",
            "\n",
            "Classification Report for Gradient Boosting \n",
            "              precision    recall  f1-score   support\n",
            "\n",
            "         0.0       0.83      0.84      0.84       103\n",
            "         1.0       0.78      0.76      0.77        76\n",
            "\n",
            "    accuracy                           0.81       179\n",
            "   macro avg       0.81      0.80      0.80       179\n",
            "weighted avg       0.81      0.81      0.81       179\n",
            "\n"
          ],
          "name": "stdout"
        }
      ]
    },
    {
      "cell_type": "code",
      "metadata": {
        "id": "lNqOhixdZemI"
      },
      "source": [
        "models =[rfc, gnb, gb]"
      ],
      "execution_count": 106,
      "outputs": []
    },
    {
      "cell_type": "code",
      "metadata": {
        "colab": {
          "base_uri": "https://localhost:8080/"
        },
        "id": "YNsE-d90YBGT",
        "outputId": "09960ef9-0d31-4bd5-f75e-a54ac8ab7c40"
      },
      "source": [
        "from sklearn.model_selection import cross_val_score\r\n",
        "\r\n",
        "def cv_for_all(model):\r\n",
        "  for item in model:\r\n",
        "    print('Metrics score for:',item)\r\n",
        "    cv_acc = cross_val_score(item,\r\n",
        "                         train,\r\n",
        "                         yvar,\r\n",
        "                         cv=5,\r\n",
        "                         scoring=\"accuracy\")\r\n",
        "    cv_acc = np.mean(cv_acc)\r\n",
        "    print(f'Accuracy: {cv_acc*100:.2f}%')\r\n",
        "    cv_precision = cross_val_score(item,\r\n",
        "                         train,\r\n",
        "                         yvar,\r\n",
        "                         cv=5,\r\n",
        "                         scoring=\"precision\")\r\n",
        "    cv_precision=np.mean(cv_precision)\r\n",
        "    print(f'Precision: {cv_precision*100:.2f}%')\r\n",
        "    cv_recall = cross_val_score(item,\r\n",
        "                        train,\r\n",
        "                         yvar,\r\n",
        "                         cv=5,\r\n",
        "                         scoring=\"recall\")\r\n",
        "    cv_recall = np.mean(cv_recall)\r\n",
        "    print(f'Recall: {cv_recall}')\r\n",
        "    cv_f1 = cross_val_score(item,\r\n",
        "                         train,\r\n",
        "                         yvar,\r\n",
        "                         cv=5,\r\n",
        "                         scoring=\"f1\")\r\n",
        "    cv_f1 = np.mean(cv_f1)\r\n",
        "    print(f'F1 Score: {cv_f1}\\n\\n')\r\n",
        "cv_for_all(model=models)\r\n"
      ],
      "execution_count": 113,
      "outputs": [
        {
          "output_type": "stream",
          "text": [
            "Metrics score for: RandomForestClassifier(bootstrap=True, ccp_alpha=0.0, class_weight=None,\n",
            "                       criterion='gini', max_depth=15, max_features='auto',\n",
            "                       max_leaf_nodes=None, max_samples=None,\n",
            "                       min_impurity_decrease=0.0, min_impurity_split=None,\n",
            "                       min_samples_leaf=1, min_samples_split=2,\n",
            "                       min_weight_fraction_leaf=0.0, n_estimators=500,\n",
            "                       n_jobs=None, oob_score=False, random_state=None,\n",
            "                       verbose=0, warm_start=False)\n",
            "Accuracy: 81.26%\n",
            "Precision: 77.27%\n",
            "Recall: 0.7365728900255755\n",
            "F1 Score: 0.742056775549285\n",
            "\n",
            "\n",
            "Metrics score for: GaussianNB(priors=None, var_smoothing=1e-07)\n",
            "Accuracy: 80.14%\n",
            "Precision: 72.50%\n",
            "Recall: 0.7806052855924979\n",
            "F1 Score: 0.7511624219324441\n",
            "\n",
            "\n",
            "Metrics score for: GradientBoostingClassifier(ccp_alpha=0.0, criterion='friedman_mse', init=None,\n",
            "                           learning_rate=0.01, loss='deviance', max_depth=4,\n",
            "                           max_features=4, max_leaf_nodes=None,\n",
            "                           min_impurity_decrease=0.0, min_impurity_split=None,\n",
            "                           min_samples_leaf=7, min_samples_split=40,\n",
            "                           min_weight_fraction_leaf=0.0, n_estimators=1500,\n",
            "                           n_iter_no_change=None, presort='deprecated',\n",
            "                           random_state=10, subsample=0.95, tol=0.0001,\n",
            "                           validation_fraction=0.1, verbose=0,\n",
            "                           warm_start=False)\n",
            "Accuracy: 83.17%\n",
            "Precision: 81.58%\n",
            "Recall: 0.7278772378516625\n",
            "F1 Score: 0.7678053838625811\n",
            "\n",
            "\n"
          ],
          "name": "stdout"
        }
      ]
    },
    {
      "cell_type": "code",
      "metadata": {
        "colab": {
          "base_uri": "https://localhost:8080/"
        },
        "id": "6hnDBPF2Z9X2",
        "outputId": "02185c66-244d-4c8a-84bf-a4a7a40d2d68"
      },
      "source": [
        ""
      ],
      "execution_count": 114,
      "outputs": [
        {
          "output_type": "execute_result",
          "data": {
            "text/plain": [
              "array([0.075847  , 0.2184949 , 0.20779351, 0.03173324, 0.02230431,\n",
              "       0.23099157, 0.0272597 , 0.12306566, 0.05201041, 0.01049969])"
            ]
          },
          "metadata": {
            "tags": []
          },
          "execution_count": 114
        }
      ]
    },
    {
      "cell_type": "code",
      "metadata": {
        "id": "j5pSKelUbldg"
      },
      "source": [
        "def plot_feature(column, imp):\r\n",
        "  df = (pd.DataFrame({'Features':column, 'Feature_Importance':imp}).sort_values(\"Feature_Importance\", ascending=False).reset_index(drop=True))\r\n",
        "\r\n",
        "  fig, ax =  plt.subplots()\r\n",
        "  ax.barh(df.Features, df.Feature_Importance)\r\n",
        "  ax.invert_yaxis()"
      ],
      "execution_count": 138,
      "outputs": []
    },
    {
      "cell_type": "code",
      "metadata": {
        "colab": {
          "base_uri": "https://localhost:8080/",
          "height": 265
        },
        "id": "SMlNf3FbdPa2",
        "outputId": "ae6b699f-b156-419e-934d-e1ee10b0ee78"
      },
      "source": [
        "importance = rfc_best_hp.feature_importances_\r\n",
        "plot_feature(X_train.columns,importance)"
      ],
      "execution_count": 139,
      "outputs": [
        {
          "output_type": "display_data",
          "data": {
            "image/png": "[encoded data removed]",
            "text/plain": [
              "<Figure size 432x288 with 1 Axes>"
            ]
          },
          "metadata": {
            "tags": [],
            "needs_background": "light"
          }
        }
      ]
    },
    {
      "cell_type": "code",
      "metadata": {
        "colab": {
          "base_uri": "https://localhost:8080/",
          "height": 520
        },
        "id": "GjJddI8Vd7mh",
        "outputId": "664a9825-21d0-4ab0-cb6c-c7531e50090c"
      },
      "source": [
        "from sklearn.inspection import permutation_importance\r\n",
        "importance = permutation_importance(gnb_best_hp\r\n",
        "                                    , X_test, y_test)\r\n",
        "imps = importance.importances_std\r\n",
        "plot_feature(X_train.columns, imps)\r\n",
        "importance"
      ],
      "execution_count": 154,
      "outputs": [
        {
          "output_type": "execute_result",
          "data": {
            "text/plain": [
              "{'importances': array([[ 0.00558659,  0.        , -0.01117318, -0.00558659, -0.02234637],\n",
              "        [ 0.15083799,  0.08938547,  0.17877095,  0.10055866,  0.20111732],\n",
              "        [ 0.        ,  0.01117318,  0.00558659,  0.01117318,  0.        ],\n",
              "        [ 0.01675978,  0.        ,  0.00558659,  0.02234637,  0.02234637],\n",
              "        [ 0.        ,  0.        ,  0.        ,  0.01117318,  0.        ],\n",
              "        [-0.00558659,  0.02793296,  0.        , -0.01675978, -0.00558659],\n",
              "        [ 0.        , -0.01117318,  0.        ,  0.00558659, -0.01675978],\n",
              "        [ 0.06145251,  0.06703911,  0.07821229,  0.05027933,  0.06703911],\n",
              "        [-0.00558659,  0.        ,  0.        ,  0.02234637,  0.00558659],\n",
              "        [ 0.00558659,  0.00558659,  0.01117318,  0.00558659,  0.00558659]]),\n",
              " 'importances_mean': array([-6.70391061e-03,  1.44134078e-01,  5.58659218e-03,  1.34078212e-02,\n",
              "         2.23463687e-03, -2.22044605e-17, -4.46927374e-03,  6.48044693e-02,\n",
              "         4.46927374e-03,  6.70391061e-03]),\n",
              " 'importances_std': array([0.00961154, 0.04333122, 0.0049968 , 0.00907714, 0.00446927,\n",
              "        0.0149904 , 0.00821058, 0.00907714, 0.00961154, 0.00223464])}"
            ]
          },
          "metadata": {
            "tags": []
          },
          "execution_count": 154
        },
        {
          "output_type": "display_data",
          "data": {
            "image/png": "[encoded data removed]",
            "text/plain": [
              "<Figure size 432x288 with 1 Axes>"
            ]
          },
          "metadata": {
            "tags": [],
            "needs_background": "light"
          }
        }
      ]
    },
    {
      "cell_type": "code",
      "metadata": {
        "colab": {
          "base_uri": "https://localhost:8080/",
          "height": 265
        },
        "id": "R6ecR0CFgVaZ",
        "outputId": "ab5b4e2f-8625-4196-b1fc-061740ce9632"
      },
      "source": [
        "imps = gb_best_hp.feature_importances_\r\n",
        "plot_feature(X_train.columns,imps)"
      ],
      "execution_count": 152,
      "outputs": [
        {
          "output_type": "display_data",
          "data": {
            "image/png": "[encoded data removed]",
            "text/plain": [
              "<Figure size 432x288 with 1 Axes>"
            ]
          },
          "metadata": {
            "tags": [],
            "needs_background": "light"
          }
        }
      ]
    },
    {
      "cell_type": "code",
      "metadata": {
        "id": "EYnL2WIDhclo"
      },
      "source": [
        ""
      ],
      "execution_count": null,
      "outputs": []
    }
  ]
}